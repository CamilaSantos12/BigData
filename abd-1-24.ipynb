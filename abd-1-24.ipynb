{
 "cells": [
  {
   "cell_type": "code",
   "execution_count": 1,
   "id": "cd4a565c-ff55-4c0a-a6bf-cf8582c33963",
   "metadata": {},
   "outputs": [
    {
     "name": "stdout",
     "output_type": "stream",
     "text": [
      "Current working directory: C:\\Users\\migue\\OneDrive\\Documents\\GitHub\\abd-projeto-24\n",
      "Files in the current directory:\n",
      "['.ipynb_checkpoints', 'abd-1-24.ipynb', 'Books.jsonl.gz', 'sample_df.csv', 'Untitled.ipynb']\n",
      "+----------+------------+--------------------+-----------+------+--------------------+-------------+--------------------+--------------------+-----------------+\n",
      "|      asin|helpful_vote|              images|parent_asin|rating|                text|    timestamp|               title|             user_id|verified_purchase|\n",
      "+----------+------------+--------------------+-----------+------+--------------------+-------------+--------------------+--------------------+-----------------+\n",
      "|B09BGPFTDB|           0|[{IMAGE, https://...| B09BGPFTDB|   1.0|It is definitely ...|1642399598485|Not a watercolor ...|AFKZENTNBQ7A7V7UX...|             true|\n",
      "|0593235657|           1|                  []| 0593235657|   5.0|Updated: after fi...|1640629604904|Updated: after 1s...|AFKZENTNBQ7A7V7UX...|             true|\n",
      "|1782490671|           0|                  []| 1782490671|   5.0|I bought it for t...|1640383495102|Excellent! I love...|AFKZENTNBQ7A7V7UX...|             true|\n",
      "|0593138228|           0|                  []| 0593138228|   5.0|Updated: after 1s...|1640364906602|Updated after 1st...|AFKZENTNBQ7A7V7UX...|            false|\n",
      "|0823098079|           0|[{IMAGE, https://...| 0823098079|   5.0|I love this book!...|1637312253230| Beautiful patterns!|AFKZENTNBQ7A7V7UX...|             true|\n",
      "|1631591290|           0|                  []| 1631591290|   1.0|Missing the sketc...|1628137684910|Missing the sketc...|AFKZENTNBQ7A7V7UX...|             true|\n",
      "|1640210148|           1|[{IMAGE, https://...| 1640210148|   4.0|Seriously one of ...|1619293708256|Beautiful, but sh...|AFKZENTNBQ7A7V7UX...|            false|\n",
      "|1784881953|           0|                  []| 1784881953|   5.0|I love this book....|1612053605736|Bought for myself...|AFKZENTNBQ7A7V7UX...|            false|\n",
      "|1645671127|           3|[{IMAGE, https://...| 1645671127|   3.0|I really wanted t...|1612044209266|Half the size of ...|AFKZENTNBQ7A7V7UX...|            false|\n",
      "|1780671067|           2|[{IMAGE, https://...| 1780671067|   1.0|Every page has a ...|1611623223325|Crease down entir...|AFKZENTNBQ7A7V7UX...|             true|\n",
      "|1442450703|          94|                  []| 1442450703|   5.0|This was my 6th c...|1523093714024|Granddaughter lov...|AFKZENTNBQ7A7V7UX...|             true|\n",
      "|1564770672|           0|                  []| 1564770672|   5.0|Can't wait to try...|1441260365000|          Five Stars|AFKZENTNBQ7A7V7UX...|             true|\n",
      "|1446304000|           0|                  []| 1446304000|   5.0|Her books are gre...|1441260345000|          Five Stars|AFKZENTNBQ7A7V7UX...|             true|\n",
      "|013262107X|          58|                  []| 013262107X|   5.0|If you're looking...|1354389725000|        Aweeeeesome.|AGGZ357AO26RQZVRL...|             true|\n",
      "|0803736800|           2|                  []| 0803736800|   4.0|Wonderful book bu...|1454676557000|Wish they'd left ...|AGKASBHYZPGTEPO6L...|             true|\n",
      "|0802737803|           0|                  []| 0802737803|   5.0|We love this book...|1454676232000|             Love it|AGKASBHYZPGTEPO6L...|             true|\n",
      "|1508558884|           0|                  []| 1508558884|   2.0|I waned to like i...|1452650737000|I waned to like i...|AGKASBHYZPGTEPO6L...|             true|\n",
      "|0735336296|           0|                  []| 0735336296|   5.0|   Sweet bookplates!|1452649811000|          Five Stars|AGKASBHYZPGTEPO6L...|             true|\n",
      "|0803729952|           0|                  []| 0803729952|   4.0|Cute book! Not qu...|1452647498000|Not quite up to t...|AGKASBHYZPGTEPO6L...|             true|\n",
      "|0811849783|           1|                  []| 0811849783|   5.0|I bought two pack...|1223392757000|Buy more than you...|AGKASBHYZPGTEPO6L...|            false|\n",
      "+----------+------------+--------------------+-----------+------+--------------------+-------------+--------------------+--------------------+-----------------+\n",
      "only showing top 20 rows\n",
      "\n"
     ]
    }
   ],
   "source": [
    "import os\n",
    "from pyspark.sql import SparkSession\n",
    "\n",
    "# Initialize SparkSession\n",
    "spark = SparkSession.builder \\\n",
    "    .appName(\"ReadGzippedJSON\") \\\n",
    "    .getOrCreate()\n",
    "\n",
    "# Set the current working directory\n",
    "os.chdir(\"C:\\\\Users\\\\migue\\\\OneDrive\\\\Documents\\\\GitHub\\\\abd-projeto-24\")\n",
    "\n",
    "# Print the current working directory to verify\n",
    "current_dir = os.getcwd()\n",
    "print(f\"Current working directory: {current_dir}\")\n",
    "\n",
    "# Check if the file exists in the current directory\n",
    "print(\"Files in the current directory:\")\n",
    "print(os.listdir(current_dir))\n",
    "\n",
    "# Provide the absolute path to your gzipped JSON file\n",
    "gzipped_json_path = os.path.join(current_dir, \"Books.jsonl.gz\")\n",
    "\n",
    "# Read the gzipped JSON file into a DataFrame\n",
    "df = spark.read.json(gzipped_json_path)\n",
    "\n",
    "# Show the DataFrame contents\n",
    "df.show()"
   ]
  },
  {
   "cell_type": "code",
   "execution_count": 3,
   "id": "f7142a6e-64a3-4a68-b3c6-c5719226f0b8",
   "metadata": {},
   "outputs": [
    {
     "data": {
      "text/plain": [
       "29475453"
      ]
     },
     "execution_count": 3,
     "metadata": {},
     "output_type": "execute_result"
    }
   ],
   "source": [
    "df.count()"
   ]
  },
  {
   "cell_type": "code",
   "execution_count": 4,
   "id": "b4d187d8-8340-4b86-8a02-bebb6bc08b14",
   "metadata": {},
   "outputs": [
    {
     "name": "stdout",
     "output_type": "stream",
     "text": [
      "+----------+------------+------+-----------+------+--------------------+-------------+--------------------+--------------------+-----------------+\n",
      "|      asin|helpful_vote|images|parent_asin|rating|                text|    timestamp|               title|             user_id|verified_purchase|\n",
      "+----------+------------+------+-----------+------+--------------------+-------------+--------------------+--------------------+-----------------+\n",
      "|B000DN5UT0|           0|    []| B000DN5UT0|   5.0|Absolutely wonder...|1504825141445|          Five Stars|AGSPTL4RQAXG4TLMP...|             true|\n",
      "|080483816X|           0|    []| 080483816X|   5.0|I am teaching mys...|1623529314696|Bu cuo! Self-guid...|AEMBS6HBBPFH6JQIL...|             true|\n",
      "|0804170991|           1|    []| 0804170991|   4.0|I lean to a 4 sta...|1651358241140|           Good read|AGSP6LSQK32SQEJO3...|             true|\n",
      "|0358067316|           0|    []| 0358067316|   4.0|The thing that st...|1568936923481|Tension from all ...|AGSP6LSQK32SQEJO3...|            false|\n",
      "|0763690457|           5|    []| 0763690457|   5.0|This is a beautif...|1544739386448|Beautiful illustr...|AE3WJ3IDKDL3AVWIV...|             true|\n",
      "|1338569090|           0|    []| 1338569090|   3.0|(3.5)<br />As the...|1588002918500|Good story with a...|AHWCZ47A7FIYEJ7KE...|            false|\n",
      "|0985101008|           3|    []| 0985101008|   5.0|This was one grea...|1366921824000|  Highly Recommended|AHWCZ47A7FIYEJ7KE...|            false|\n",
      "|0848756657|           2|    []| 0848756657|   4.0|Physically this i...|1542950324599|      Southern Charm|AH665SQ6SQF6DXAGY...|            false|\n",
      "|1624149898|           0|    []| 1624149898|   5.0|I've never woven ...|1578179948099|Very Good Book on...|AEYVPPWR4CIKWX4BG...|            false|\n",
      "|B08BTX5H2J|           3|    []| B08BTX5H2J|   5.0|I bought this to ...|1672548591735|Excellent book fo...|AGIIL7YIFBWA75X2E...|             true|\n",
      "|0367185822|           0|    []| 0367185822|   5.0|Was in perfect sh...|1614632168376|          Great book|AGVJ6TQOKXND4YQ3F...|             true|\n",
      "|1440350280|           4|    []| 1440350280|   3.0|\"Paint, Play, Exp...|1537736492593|Suggestions to st...|AGRCXV4NM763VGZGD...|            false|\n",
      "|1501864815|           3|    []| 1501864815|   3.0|This book contain...|1536599813383|Commentary on Bon...|AGRCXV4NM763VGZGD...|            false|\n",
      "|1586280554|           1|    []| 1586280554|   4.0|Cody is a cool co...|1517691805692|    Very Educational|AH44RUNOBWHIMDEJ6...|            false|\n",
      "|B00BPA1T8G|           0|    []| B00BPA1T8G|   4.0|Ordinary Grace is...|1392386110000|    great audiobook!|AHAR2ITQ3O2FJJDLI...|            false|\n",
      "|1906002231|           5|    []| 1906002231|   4.0|Not your typical ...|1375665180000|       Different....|AH57HG2KBYU43RIFM...|             true|\n",
      "|B003QKALOQ|           0|    []| B003QKALOQ|   5.0|Horatio Alger wou...|1410199144000|Failure is a Give...|AGXFIFO4VWNHPAX3V...|            false|\n",
      "|0812415280|           1|    []| 0812415280|   5.0|Holden Caulfield ...|1127140831000|Holden Caulfield'...|AGXFIFO4VWNHPAX3V...|            false|\n",
      "|140272652X|           0|    []| 140272652X|   4.0|    Good puzzle book|1446306161000|    Good puzzle book|AF4WWSA4IKSV6BHTW...|             true|\n",
      "|1932855823|           1|    []| 1932855823|   5.0|I ordered one for...|1202459973000|      Fun, fun, fun!|AFNXZN3MNOLGXFH4W...|             true|\n",
      "+----------+------------+------+-----------+------+--------------------+-------------+--------------------+--------------------+-----------------+\n",
      "only showing top 20 rows\n",
      "\n",
      "Number of rows in the sampled DataFrame: 2959\n"
     ]
    }
   ],
   "source": [
    "# Sample the DataFrame without replacement\n",
    "sampled_df = df.sample(withReplacement=False, fraction=0.0001, seed=42)\n",
    "\n",
    "# Show the sampled DataFrame\n",
    "sampled_df.show()\n",
    "\n",
    "# Check the number of rows in the sampled DataFrame\n",
    "sampled_row_count = sampled_df.count()\n",
    "print(f\"Number of rows in the sampled DataFrame: {sampled_row_count}\")"
   ]
  },
  {
   "cell_type": "code",
   "execution_count": 5,
   "id": "7dd17ebd-ca81-43ea-aa8a-1041da076754",
   "metadata": {},
   "outputs": [],
   "source": [
    "# Drop the \"images\" column\n",
    "sampled_df = sampled_df.drop(\"images\")"
   ]
  },
  {
   "cell_type": "code",
   "execution_count": 6,
   "id": "81bf0f2b-187e-4387-9b47-43c262d51aa2",
   "metadata": {},
   "outputs": [
    {
     "name": "stdout",
     "output_type": "stream",
     "text": [
      "+----------+------------+-----------+------+--------------------+-------------+--------------------+--------------------+-----------------+\n",
      "|      asin|helpful_vote|parent_asin|rating|                text|    timestamp|               title|             user_id|verified_purchase|\n",
      "+----------+------------+-----------+------+--------------------+-------------+--------------------+--------------------+-----------------+\n",
      "|B000DN5UT0|           0| B000DN5UT0|   5.0|Absolutely wonder...|1504825141445|          Five Stars|AGSPTL4RQAXG4TLMP...|             true|\n",
      "|080483816X|           0| 080483816X|   5.0|I am teaching mys...|1623529314696|Bu cuo! Self-guid...|AEMBS6HBBPFH6JQIL...|             true|\n",
      "|0804170991|           1| 0804170991|   4.0|I lean to a 4 sta...|1651358241140|           Good read|AGSP6LSQK32SQEJO3...|             true|\n",
      "|0358067316|           0| 0358067316|   4.0|The thing that st...|1568936923481|Tension from all ...|AGSP6LSQK32SQEJO3...|            false|\n",
      "|0763690457|           5| 0763690457|   5.0|This is a beautif...|1544739386448|Beautiful illustr...|AE3WJ3IDKDL3AVWIV...|             true|\n",
      "|1338569090|           0| 1338569090|   3.0|(3.5)<br />As the...|1588002918500|Good story with a...|AHWCZ47A7FIYEJ7KE...|            false|\n",
      "|0985101008|           3| 0985101008|   5.0|This was one grea...|1366921824000|  Highly Recommended|AHWCZ47A7FIYEJ7KE...|            false|\n",
      "|0848756657|           2| 0848756657|   4.0|Physically this i...|1542950324599|      Southern Charm|AH665SQ6SQF6DXAGY...|            false|\n",
      "|1624149898|           0| 1624149898|   5.0|I've never woven ...|1578179948099|Very Good Book on...|AEYVPPWR4CIKWX4BG...|            false|\n",
      "|B08BTX5H2J|           3| B08BTX5H2J|   5.0|I bought this to ...|1672548591735|Excellent book fo...|AGIIL7YIFBWA75X2E...|             true|\n",
      "|0367185822|           0| 0367185822|   5.0|Was in perfect sh...|1614632168376|          Great book|AGVJ6TQOKXND4YQ3F...|             true|\n",
      "|1440350280|           4| 1440350280|   3.0|\"Paint, Play, Exp...|1537736492593|Suggestions to st...|AGRCXV4NM763VGZGD...|            false|\n",
      "|1501864815|           3| 1501864815|   3.0|This book contain...|1536599813383|Commentary on Bon...|AGRCXV4NM763VGZGD...|            false|\n",
      "|1586280554|           1| 1586280554|   4.0|Cody is a cool co...|1517691805692|    Very Educational|AH44RUNOBWHIMDEJ6...|            false|\n",
      "|B00BPA1T8G|           0| B00BPA1T8G|   4.0|Ordinary Grace is...|1392386110000|    great audiobook!|AHAR2ITQ3O2FJJDLI...|            false|\n",
      "|1906002231|           5| 1906002231|   4.0|Not your typical ...|1375665180000|       Different....|AH57HG2KBYU43RIFM...|             true|\n",
      "|B003QKALOQ|           0| B003QKALOQ|   5.0|Horatio Alger wou...|1410199144000|Failure is a Give...|AGXFIFO4VWNHPAX3V...|            false|\n",
      "|0812415280|           1| 0812415280|   5.0|Holden Caulfield ...|1127140831000|Holden Caulfield'...|AGXFIFO4VWNHPAX3V...|            false|\n",
      "|140272652X|           0| 140272652X|   4.0|    Good puzzle book|1446306161000|    Good puzzle book|AF4WWSA4IKSV6BHTW...|             true|\n",
      "|1932855823|           1| 1932855823|   5.0|I ordered one for...|1202459973000|      Fun, fun, fun!|AFNXZN3MNOLGXFH4W...|             true|\n",
      "+----------+------------+-----------+------+--------------------+-------------+--------------------+--------------------+-----------------+\n",
      "only showing top 20 rows\n",
      "\n"
     ]
    }
   ],
   "source": [
    "# Show the sampled DataFrame\n",
    "sampled_df.show()"
   ]
  },
  {
   "cell_type": "code",
   "execution_count": 7,
   "id": "295143ec-e131-49a1-80e7-628d91fda3c8",
   "metadata": {},
   "outputs": [],
   "source": [
    "import pandas as pd"
   ]
  },
  {
   "cell_type": "code",
   "execution_count": 8,
   "id": "28cb10fb-43d8-4ee4-9eee-724331a357f2",
   "metadata": {},
   "outputs": [],
   "source": [
    "# Assuming sampled_df is your PySpark DataFrame\n",
    "pandas_df = sampled_df.toPandas()"
   ]
  },
  {
   "cell_type": "code",
   "execution_count": 9,
   "id": "872ee3d3-d09e-4c27-a01a-d3678dca78c5",
   "metadata": {},
   "outputs": [
    {
     "data": {
      "text/html": [
       "<div>\n",
       "<style scoped>\n",
       "    .dataframe tbody tr th:only-of-type {\n",
       "        vertical-align: middle;\n",
       "    }\n",
       "\n",
       "    .dataframe tbody tr th {\n",
       "        vertical-align: top;\n",
       "    }\n",
       "\n",
       "    .dataframe thead th {\n",
       "        text-align: right;\n",
       "    }\n",
       "</style>\n",
       "<table border=\"1\" class=\"dataframe\">\n",
       "  <thead>\n",
       "    <tr style=\"text-align: right;\">\n",
       "      <th></th>\n",
       "      <th>asin</th>\n",
       "      <th>helpful_vote</th>\n",
       "      <th>parent_asin</th>\n",
       "      <th>rating</th>\n",
       "      <th>text</th>\n",
       "      <th>timestamp</th>\n",
       "      <th>title</th>\n",
       "      <th>user_id</th>\n",
       "      <th>verified_purchase</th>\n",
       "    </tr>\n",
       "  </thead>\n",
       "  <tbody>\n",
       "    <tr>\n",
       "      <th>0</th>\n",
       "      <td>B000DN5UT0</td>\n",
       "      <td>0</td>\n",
       "      <td>B000DN5UT0</td>\n",
       "      <td>5.0</td>\n",
       "      <td>Absolutely wonderful listening to the poetry i...</td>\n",
       "      <td>1504825141445</td>\n",
       "      <td>Five Stars</td>\n",
       "      <td>AGSPTL4RQAXG4TLMP3IG7Y4JFW5A</td>\n",
       "      <td>True</td>\n",
       "    </tr>\n",
       "    <tr>\n",
       "      <th>1</th>\n",
       "      <td>080483816X</td>\n",
       "      <td>0</td>\n",
       "      <td>080483816X</td>\n",
       "      <td>5.0</td>\n",
       "      <td>I am teaching myself Mandarin and this book ha...</td>\n",
       "      <td>1623529314696</td>\n",
       "      <td>Bu cuo! Self-guided learning made easy</td>\n",
       "      <td>AEMBS6HBBPFH6JQILNA6LJF4R75Q</td>\n",
       "      <td>True</td>\n",
       "    </tr>\n",
       "    <tr>\n",
       "      <th>2</th>\n",
       "      <td>0804170991</td>\n",
       "      <td>1</td>\n",
       "      <td>0804170991</td>\n",
       "      <td>4.0</td>\n",
       "      <td>I lean to a 4 star on \"The Sleepwalker\". Overa...</td>\n",
       "      <td>1651358241140</td>\n",
       "      <td>Good read</td>\n",
       "      <td>AGSP6LSQK32SQEJO3YVVNACPWMSQ</td>\n",
       "      <td>True</td>\n",
       "    </tr>\n",
       "    <tr>\n",
       "      <th>3</th>\n",
       "      <td>0358067316</td>\n",
       "      <td>0</td>\n",
       "      <td>0358067316</td>\n",
       "      <td>4.0</td>\n",
       "      <td>The thing that struck me while I was reading \"...</td>\n",
       "      <td>1568936923481</td>\n",
       "      <td>Tension from all sides</td>\n",
       "      <td>AGSP6LSQK32SQEJO3YVVNACPWMSQ</td>\n",
       "      <td>False</td>\n",
       "    </tr>\n",
       "    <tr>\n",
       "      <th>4</th>\n",
       "      <td>0763690457</td>\n",
       "      <td>5</td>\n",
       "      <td>0763690457</td>\n",
       "      <td>5.0</td>\n",
       "      <td>This is a beautifully illustrated book with a ...</td>\n",
       "      <td>1544739386448</td>\n",
       "      <td>Beautiful illustrations</td>\n",
       "      <td>AE3WJ3IDKDL3AVWIVWVIIFOQKBEQ</td>\n",
       "      <td>True</td>\n",
       "    </tr>\n",
       "  </tbody>\n",
       "</table>\n",
       "</div>"
      ],
      "text/plain": [
       "         asin  helpful_vote parent_asin  rating  \\\n",
       "0  B000DN5UT0             0  B000DN5UT0     5.0   \n",
       "1  080483816X             0  080483816X     5.0   \n",
       "2  0804170991             1  0804170991     4.0   \n",
       "3  0358067316             0  0358067316     4.0   \n",
       "4  0763690457             5  0763690457     5.0   \n",
       "\n",
       "                                                text      timestamp  \\\n",
       "0  Absolutely wonderful listening to the poetry i...  1504825141445   \n",
       "1  I am teaching myself Mandarin and this book ha...  1623529314696   \n",
       "2  I lean to a 4 star on \"The Sleepwalker\". Overa...  1651358241140   \n",
       "3  The thing that struck me while I was reading \"...  1568936923481   \n",
       "4  This is a beautifully illustrated book with a ...  1544739386448   \n",
       "\n",
       "                                    title                       user_id  \\\n",
       "0                              Five Stars  AGSPTL4RQAXG4TLMP3IG7Y4JFW5A   \n",
       "1  Bu cuo! Self-guided learning made easy  AEMBS6HBBPFH6JQILNA6LJF4R75Q   \n",
       "2                               Good read  AGSP6LSQK32SQEJO3YVVNACPWMSQ   \n",
       "3                  Tension from all sides  AGSP6LSQK32SQEJO3YVVNACPWMSQ   \n",
       "4                 Beautiful illustrations  AE3WJ3IDKDL3AVWIVWVIIFOQKBEQ   \n",
       "\n",
       "   verified_purchase  \n",
       "0               True  \n",
       "1               True  \n",
       "2               True  \n",
       "3              False  \n",
       "4               True  "
      ]
     },
     "execution_count": 9,
     "metadata": {},
     "output_type": "execute_result"
    }
   ],
   "source": [
    "pandas_df.head()"
   ]
  },
  {
   "cell_type": "code",
   "execution_count": 10,
   "id": "7995cc77-19eb-4fe1-87e6-be0984b57f86",
   "metadata": {},
   "outputs": [],
   "source": [
    "csv_file = \"sample_df.csv\"\n",
    "pandas_df.to_csv(csv_file, index=False, sep=';')"
   ]
  }
 ],
 "metadata": {
  "kernelspec": {
   "display_name": "pyspark_env",
   "language": "python",
   "name": "pyspark_env"
  },
  "language_info": {
   "codemirror_mode": {
    "name": "ipython",
    "version": 3
   },
   "file_extension": ".py",
   "mimetype": "text/x-python",
   "name": "python",
   "nbconvert_exporter": "python",
   "pygments_lexer": "ipython3",
   "version": "3.12.3"
  }
 },
 "nbformat": 4,
 "nbformat_minor": 5
}
