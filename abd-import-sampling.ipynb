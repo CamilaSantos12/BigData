{
 "cells": [
  {
   "cell_type": "code",
   "execution_count": 1,
   "id": "cd4a565c-ff55-4c0a-a6bf-cf8582c33963",
   "metadata": {},
   "outputs": [
    {
     "name": "stdout",
     "output_type": "stream",
     "text": [
      "Current working directory: C:\\Users\\migue\\OneDrive\\Documents\\GitHub\\abd-projeto-24\n",
      "Files in the current directory:\n",
      "['.ipynb_checkpoints', 'abd-1-24.ipynb', 'abd-2-24.ipynb', 'Books.jsonl.gz', 'sample_df.csv', 'Untitled.ipynb']\n"
     ]
    },
    {
     "data": {
      "text/plain": [
       "[Row(asin='B09BGPFTDB', helpful_vote=0, images=[Row(attachment_type='IMAGE', large_image_url='https://m.media-amazon.com/images/I/516HBU7LQoL._SL1600_.jpg', medium_image_url='https://m.media-amazon.com/images/I/516HBU7LQoL._SL800_.jpg', small_image_url='https://m.media-amazon.com/images/I/516HBU7LQoL._SL256_.jpg'), Row(attachment_type='IMAGE', large_image_url='https://m.media-amazon.com/images/I/71+XwcacMmL._SL1600_.jpg', medium_image_url='https://m.media-amazon.com/images/I/71+XwcacMmL._SL800_.jpg', small_image_url='https://m.media-amazon.com/images/I/71+XwcacMmL._SL256_.jpg'), Row(attachment_type='IMAGE', large_image_url='https://m.media-amazon.com/images/I/71RbTuvD1ZL._SL1600_.jpg', medium_image_url='https://m.media-amazon.com/images/I/71RbTuvD1ZL._SL800_.jpg', small_image_url='https://m.media-amazon.com/images/I/71RbTuvD1ZL._SL256_.jpg'), Row(attachment_type='IMAGE', large_image_url='https://m.media-amazon.com/images/I/71U63wdOeZL._SL1600_.jpg', medium_image_url='https://m.media-amazon.com/images/I/71U63wdOeZL._SL800_.jpg', small_image_url='https://m.media-amazon.com/images/I/71U63wdOeZL._SL256_.jpg'), Row(attachment_type='IMAGE', large_image_url='https://m.media-amazon.com/images/I/71WFEDyKcKL._SL1600_.jpg', medium_image_url='https://m.media-amazon.com/images/I/71WFEDyKcKL._SL800_.jpg', small_image_url='https://m.media-amazon.com/images/I/71WFEDyKcKL._SL256_.jpg'), Row(attachment_type='IMAGE', large_image_url='https://m.media-amazon.com/images/I/8109NwjpHKL._SL1600_.jpg', medium_image_url='https://m.media-amazon.com/images/I/8109NwjpHKL._SL800_.jpg', small_image_url='https://m.media-amazon.com/images/I/8109NwjpHKL._SL256_.jpg'), Row(attachment_type='IMAGE', large_image_url='https://m.media-amazon.com/images/I/814gxfh8wcL._SL1600_.jpg', medium_image_url='https://m.media-amazon.com/images/I/814gxfh8wcL._SL800_.jpg', small_image_url='https://m.media-amazon.com/images/I/814gxfh8wcL._SL256_.jpg'), Row(attachment_type='IMAGE', large_image_url='https://m.media-amazon.com/images/I/81HC0vKRC2L._SL1600_.jpg', medium_image_url='https://m.media-amazon.com/images/I/81HC0vKRC2L._SL800_.jpg', small_image_url='https://m.media-amazon.com/images/I/81HC0vKRC2L._SL256_.jpg'), Row(attachment_type='IMAGE', large_image_url='https://m.media-amazon.com/images/I/81Nx6BnRLxL._SL1600_.jpg', medium_image_url='https://m.media-amazon.com/images/I/81Nx6BnRLxL._SL800_.jpg', small_image_url='https://m.media-amazon.com/images/I/81Nx6BnRLxL._SL256_.jpg'), Row(attachment_type='IMAGE', large_image_url='https://m.media-amazon.com/images/I/81QQMwBcVPL._SL1600_.jpg', medium_image_url='https://m.media-amazon.com/images/I/81QQMwBcVPL._SL800_.jpg', small_image_url='https://m.media-amazon.com/images/I/81QQMwBcVPL._SL256_.jpg'), Row(attachment_type='IMAGE', large_image_url='https://m.media-amazon.com/images/I/81fgT3R3OwL._SL1600_.jpg', medium_image_url='https://m.media-amazon.com/images/I/81fgT3R3OwL._SL800_.jpg', small_image_url='https://m.media-amazon.com/images/I/81fgT3R3OwL._SL256_.jpg'), Row(attachment_type='IMAGE', large_image_url='https://m.media-amazon.com/images/I/81mfzny0I5L._SL1600_.jpg', medium_image_url='https://m.media-amazon.com/images/I/81mfzny0I5L._SL800_.jpg', small_image_url='https://m.media-amazon.com/images/I/81mfzny0I5L._SL256_.jpg'), Row(attachment_type='IMAGE', large_image_url='https://m.media-amazon.com/images/I/81nir7bf91L._SL1600_.jpg', medium_image_url='https://m.media-amazon.com/images/I/81nir7bf91L._SL800_.jpg', small_image_url='https://m.media-amazon.com/images/I/81nir7bf91L._SL256_.jpg'), Row(attachment_type='IMAGE', large_image_url='https://m.media-amazon.com/images/I/81yLUo6ZL3L._SL1600_.jpg', medium_image_url='https://m.media-amazon.com/images/I/81yLUo6ZL3L._SL800_.jpg', small_image_url='https://m.media-amazon.com/images/I/81yLUo6ZL3L._SL256_.jpg'), Row(attachment_type='IMAGE', large_image_url='https://m.media-amazon.com/images/I/81zh9h5RwkL._SL1600_.jpg', medium_image_url='https://m.media-amazon.com/images/I/81zh9h5RwkL._SL800_.jpg', small_image_url='https://m.media-amazon.com/images/I/81zh9h5RwkL._SL256_.jpg'), Row(attachment_type='IMAGE', large_image_url='https://m.media-amazon.com/images/I/91yfcpFlEqL._SL1600_.jpg', medium_image_url='https://m.media-amazon.com/images/I/91yfcpFlEqL._SL800_.jpg', small_image_url='https://m.media-amazon.com/images/I/91yfcpFlEqL._SL256_.jpg')], parent_asin='B09BGPFTDB', rating=1.0, text='It is definitely not a watercolor book.  The paper bucked completely.  The pages honestly appear to be photo copies of other pictures. I say that bc if you look at the seal pics you can see the tell tale line at the bottom of the page.  As someone who has made many photocopies of pages in my time so I could try out different colors & mediums that black line is a dead giveaway to me. It’s on other pages too.  The entire book just seems off. Nothing is sharp & clear. There is what looks like toner dust on all the pages making them look muddy.  There are no sharp lines & there is no clear definition.  At least there isn’t in my copy.  And the Coloring Book for Adult on the bottom of the front cover annoys me. Why is it singular & not plural?  They usually say coloring book for kids or coloring book for kids & adults or coloring book for adults- plural.  Lol  Plus it would work for kids if you can get over the grey scale nature of it.  Personally I’m not going to waste expensive pens & paints trying to paint over the grey & black mess.  I grew up in SW Florida minutes from the beaches & I was really excited about the sea life in this. I hope the printers & designers figure out how to clean up the mess bc some of the designs are really cute. They just aren’t worth my time to hand trace & transfer them, but I’m sure there are ppl that will be up to the challenge.  This is one is a hard no. Going back. I tried.', timestamp=1642399598485, title='Not a watercolor book! Seems like copies imo.', user_id='AFKZENTNBQ7A7V7UXW5JJI6UGRYQ', verified_purchase=True),\n",
       " Row(asin='0593235657', helpful_vote=1, images=[], parent_asin='0593235657', rating=5.0, text='Updated: after first book arrived very damaged the replacement arrived in perfect condition.', timestamp=1640629604904, title='Updated: after 1st arrived damaged this one is perfect', user_id='AFKZENTNBQ7A7V7UXW5JJI6UGRYQ', verified_purchase=True),\n",
       " Row(asin='1782490671', helpful_vote=0, images=[], parent_asin='1782490671', rating=5.0, text='I bought it for the bag on the front so it paid for itself with that imo.  I haven’t started anything yet from it bc I’m still busy with other projects, but I’m really looking forward to starting some.', timestamp=1640383495102, title='Excellent! I love it!', user_id='AFKZENTNBQ7A7V7UXW5JJI6UGRYQ', verified_purchase=True),\n",
       " Row(asin='0593138228', helpful_vote=0, images=[], parent_asin='0593138228', rating=5.0, text='Updated: after 1st arrived damaged the replacement arrived in perfect condition.', timestamp=1640364906602, title='Updated after 1st arrived damaged. Excellent', user_id='AFKZENTNBQ7A7V7UXW5JJI6UGRYQ', verified_purchase=False),\n",
       " Row(asin='0823098079', helpful_vote=0, images=[Row(attachment_type='IMAGE', large_image_url='https://m.media-amazon.com/images/I/5158z6bYn+L._SL1600_.jpg', medium_image_url='https://m.media-amazon.com/images/I/5158z6bYn+L._SL800_.jpg', small_image_url='https://m.media-amazon.com/images/I/5158z6bYn+L._SL256_.jpg'), Row(attachment_type='IMAGE', large_image_url='https://m.media-amazon.com/images/I/516VkTey4PL._SL1600_.jpg', medium_image_url='https://m.media-amazon.com/images/I/516VkTey4PL._SL800_.jpg', small_image_url='https://m.media-amazon.com/images/I/516VkTey4PL._SL256_.jpg'), Row(attachment_type='IMAGE', large_image_url='https://m.media-amazon.com/images/I/715n594CVdL._SL1600_.jpg', medium_image_url='https://m.media-amazon.com/images/I/715n594CVdL._SL800_.jpg', small_image_url='https://m.media-amazon.com/images/I/715n594CVdL._SL256_.jpg'), Row(attachment_type='IMAGE', large_image_url='https://m.media-amazon.com/images/I/71Ks5fLSS2L._SL1600_.jpg', medium_image_url='https://m.media-amazon.com/images/I/71Ks5fLSS2L._SL800_.jpg', small_image_url='https://m.media-amazon.com/images/I/71Ks5fLSS2L._SL256_.jpg')], parent_asin='0823098079', rating=5.0, text='I love this book!  The patterns are lovely. I admit I’m not even following all of them to the letter. I am more of a free spirit.  I see the designs & take a look at the dimensions & just kind of wing it from there sometimes. lol. I’m 54 now & much less rigid in my arts & crafts than I was in my younger days when I would go to 6 stores trying to find the right threads or yarns. Lol. Those days are over!  Praise the Lord!  It’s a lot more fun now too.  As Bob Ross used to say- “Happy Mistakes!”  I make a lot of them sometimes, but I have found that the journey for me is a lot more interesting these days. Lol.', timestamp=1637312253230, title='Beautiful patterns!', user_id='AFKZENTNBQ7A7V7UXW5JJI6UGRYQ', verified_purchase=True)]"
      ]
     },
     "execution_count": 1,
     "metadata": {},
     "output_type": "execute_result"
    }
   ],
   "source": [
    "import os\n",
    "from pyspark.sql import SparkSession\n",
    "\n",
    "# Initialize SparkSession\n",
    "spark = SparkSession.builder \\\n",
    "    .appName(\"ReadGzippedJSON\") \\\n",
    "    .getOrCreate()\n",
    "\n",
    "# Set the current working directory\n",
    "os.chdir(\"C:\\\\Users\\\\migue\\\\OneDrive\\\\Documents\\\\GitHub\\\\abd-projeto-24\")\n",
    "\n",
    "# Print the current working directory to verify\n",
    "current_dir = os.getcwd()\n",
    "print(f\"Current working directory: {current_dir}\")\n",
    "\n",
    "# Check if the file exists in the current directory\n",
    "print(\"Files in the current directory:\")\n",
    "print(os.listdir(current_dir))\n",
    "\n",
    "# Provide the absolute path to your gzipped JSON file\n",
    "gzipped_json_path = os.path.join(current_dir, \"Books.jsonl.gz\")\n",
    "\n",
    "# Read the gzipped JSON file into a DataFrame\n",
    "df = spark.read.json(gzipped_json_path)\n",
    "\n",
    "# Show the DataFrame contents\n",
    "df.head(5)"
   ]
  },
  {
   "cell_type": "code",
   "execution_count": 2,
   "id": "f7142a6e-64a3-4a68-b3c6-c5719226f0b8",
   "metadata": {},
   "outputs": [
    {
     "data": {
      "text/plain": [
       "29475453"
      ]
     },
     "execution_count": 2,
     "metadata": {},
     "output_type": "execute_result"
    }
   ],
   "source": [
    "df.count()"
   ]
  },
  {
   "cell_type": "code",
   "execution_count": 3,
   "id": "b4d187d8-8340-4b86-8a02-bebb6bc08b14",
   "metadata": {},
   "outputs": [
    {
     "name": "stdout",
     "output_type": "stream",
     "text": [
      "+----------+------------+------+-----------+------+--------------------+-------------+--------------------+--------------------+-----------------+\n",
      "|      asin|helpful_vote|images|parent_asin|rating|                text|    timestamp|               title|             user_id|verified_purchase|\n",
      "+----------+------------+------+-----------+------+--------------------+-------------+--------------------+--------------------+-----------------+\n",
      "|161773375X|           3|    []| 161773375X|   2.0|\"Get to Know Stac...|1429812948000|Not as good as th...|AFWVN52MRBWOTIK7U...|            false|\n",
      "|0385351410|           0|    []| 0385351410|   2.0|It's an age old s...|1424856339000|The story is told...|AFWVN52MRBWOTIK7U...|            false|\n",
      "|1400323460|           0|    []| 1400323460|   5.0|This was a very c...|1404340515000|The title pulled ...|AFWVN52MRBWOTIK7U...|            false|\n",
      "|0310324564|           1|    []| 0310324564|   4.0|The author has be...|1351987617000|Silly cover - bet...|AFWVN52MRBWOTIK7U...|            false|\n",
      "|193311035X|          11|    []| 193311035X|   5.0|Erotic page turne...|1144870881000|Golden Crown Lite...|AFWVN52MRBWOTIK7U...|            false|\n",
      "|1328879984|         223|    []| 1328879984|   5.0|When I was in col...|1551096241619|Know the \"Why\", N...|AFLX66DKF6R3H6OEO...|            false|\n",
      "|1947665367|           3|    []| 1947665367|   5.0|I read You Must M...|1673204931334|Full of brilliant...|AFQ7WYW4KSH4VI5OV...|            false|\n",
      "|0451414128|           0|    []| 0451414128|   5.0|Good book!  Would...|1486576646000|Good book! Would ...|AHIKFBG7C6T4VFVWD...|             true|\n",
      "|1743117094|           0|    []| 1743117094|   5.0|I'm not quite thr...|1456090245000|... I will send i...|AEPRQP77VF2CEG2GI...|             true|\n",
      "|076790592X|           0|    []| 076790592X|   5.0|Micth Albom never...|1621520165541|       Amazing Read!|AEM54G6GVSBCFVMEW...|             true|\n",
      "|B07G75GNB3|           0|    []| B07G75GNB3|   5.0|Loved the storyli...|1556250120080|Great read. I rec...|AHCG4JUQSSTI6SPIY...|             true|\n",
      "|B08N5MQYJ5|           0|    []| B08N5MQYJ5|   5.0|This is my first ...|1660439830204|          Compelling|AFQW7QX2DREMFPK5W...|             true|\n",
      "|0399159304|           0|    []| 0399159304|   5.0|Another Virgil Fl...|1388863939000|Virgil Flowers, J...|AF5YGFIDUL4PVHGLO...|             true|\n",
      "|1844091821|           2|    []| 1844091821|   5.0|I had a hard time...|1316638850000|         chalengeing|AGMDLK6RM7S3KMSZS...|             true|\n",
      "|1542025990|           0|    []| 1542025990|   4.0|A good story with...|1650033226254| A really good story|AEYE3LSUHQEX6BWG2...|             true|\n",
      "|B00127OHI6|           0|    []| B00127OHI6|   5.0|Dancing Floor is ...|1444235382000|Love Barbara Mich...|AGSV4K43Q6TIIHGN6...|             true|\n",
      "|0735584257|           0|    []| 0735584257|   5.0|Some new and valu...|1612986547586|Deepened my knowl...|AEVRP23ONGIWRUAPU...|             true|\n",
      "|0201752948|          12|    []| 0201752948|   5.0|This is an excell...|1030239547000|Balanced for for ...|AG3S4FROO422V5KP7...|            false|\n",
      "|0761518819|          16|    []| 0761518819|   5.0|It seems like eve...| 992543816000|Pragmatic &amp; e...|AG3S4FROO422V5KP7...|            false|\n",
      "|0471711861|           0|    []| 0471711861|   4.0|          Great Read|1456142801000|          Four Stars|AGDR3CBX2GWY3JKGD...|             true|\n",
      "+----------+------------+------+-----------+------+--------------------+-------------+--------------------+--------------------+-----------------+\n",
      "only showing top 20 rows\n",
      "\n",
      "Number of rows in the sampled DataFrame: 29231\n"
     ]
    }
   ],
   "source": [
    "# Sample the DataFrame without replacement\n",
    "sampled_df = df.sample(withReplacement=False, fraction=0.001, seed=42)\n",
    "\n",
    "# Show the sampled DataFrame\n",
    "sampled_df.show()\n",
    "\n",
    "# Check the number of rows in the sampled DataFrame\n",
    "sampled_row_count = sampled_df.count()\n",
    "print(f\"Number of rows in the sampled DataFrame: {sampled_row_count}\")"
   ]
  },
  {
   "cell_type": "code",
   "execution_count": 4,
   "id": "7dd17ebd-ca81-43ea-aa8a-1041da076754",
   "metadata": {},
   "outputs": [],
   "source": [
    "# Drop the \"images\" column\n",
    "sampled_df = sampled_df.drop(\"images\")"
   ]
  },
  {
   "cell_type": "code",
   "execution_count": 5,
   "id": "81bf0f2b-187e-4387-9b47-43c262d51aa2",
   "metadata": {},
   "outputs": [
    {
     "name": "stdout",
     "output_type": "stream",
     "text": [
      "+----------+------------+-----------+------+--------------------+-------------+--------------------+--------------------+-----------------+\n",
      "|      asin|helpful_vote|parent_asin|rating|                text|    timestamp|               title|             user_id|verified_purchase|\n",
      "+----------+------------+-----------+------+--------------------+-------------+--------------------+--------------------+-----------------+\n",
      "|161773375X|           3| 161773375X|   2.0|\"Get to Know Stac...|1429812948000|Not as good as th...|AFWVN52MRBWOTIK7U...|            false|\n",
      "|0385351410|           0| 0385351410|   2.0|It's an age old s...|1424856339000|The story is told...|AFWVN52MRBWOTIK7U...|            false|\n",
      "|1400323460|           0| 1400323460|   5.0|This was a very c...|1404340515000|The title pulled ...|AFWVN52MRBWOTIK7U...|            false|\n",
      "|0310324564|           1| 0310324564|   4.0|The author has be...|1351987617000|Silly cover - bet...|AFWVN52MRBWOTIK7U...|            false|\n",
      "|193311035X|          11| 193311035X|   5.0|Erotic page turne...|1144870881000|Golden Crown Lite...|AFWVN52MRBWOTIK7U...|            false|\n",
      "|1328879984|         223| 1328879984|   5.0|When I was in col...|1551096241619|Know the \"Why\", N...|AFLX66DKF6R3H6OEO...|            false|\n",
      "|1947665367|           3| 1947665367|   5.0|I read You Must M...|1673204931334|Full of brilliant...|AFQ7WYW4KSH4VI5OV...|            false|\n",
      "|0451414128|           0| 0451414128|   5.0|Good book!  Would...|1486576646000|Good book! Would ...|AHIKFBG7C6T4VFVWD...|             true|\n",
      "|1743117094|           0| 1743117094|   5.0|I'm not quite thr...|1456090245000|... I will send i...|AEPRQP77VF2CEG2GI...|             true|\n",
      "|076790592X|           0| 076790592X|   5.0|Micth Albom never...|1621520165541|       Amazing Read!|AEM54G6GVSBCFVMEW...|             true|\n",
      "|B07G75GNB3|           0| B07G75GNB3|   5.0|Loved the storyli...|1556250120080|Great read. I rec...|AHCG4JUQSSTI6SPIY...|             true|\n",
      "|B08N5MQYJ5|           0| B08N5MQYJ5|   5.0|This is my first ...|1660439830204|          Compelling|AFQW7QX2DREMFPK5W...|             true|\n",
      "|0399159304|           0| 0399159304|   5.0|Another Virgil Fl...|1388863939000|Virgil Flowers, J...|AF5YGFIDUL4PVHGLO...|             true|\n",
      "|1844091821|           2| 1844091821|   5.0|I had a hard time...|1316638850000|         chalengeing|AGMDLK6RM7S3KMSZS...|             true|\n",
      "|1542025990|           0| 1542025990|   4.0|A good story with...|1650033226254| A really good story|AEYE3LSUHQEX6BWG2...|             true|\n",
      "|B00127OHI6|           0| B00127OHI6|   5.0|Dancing Floor is ...|1444235382000|Love Barbara Mich...|AGSV4K43Q6TIIHGN6...|             true|\n",
      "|0735584257|           0| 0735584257|   5.0|Some new and valu...|1612986547586|Deepened my knowl...|AEVRP23ONGIWRUAPU...|             true|\n",
      "|0201752948|          12| 0201752948|   5.0|This is an excell...|1030239547000|Balanced for for ...|AG3S4FROO422V5KP7...|            false|\n",
      "|0761518819|          16| 0761518819|   5.0|It seems like eve...| 992543816000|Pragmatic &amp; e...|AG3S4FROO422V5KP7...|            false|\n",
      "|0471711861|           0| 0471711861|   4.0|          Great Read|1456142801000|          Four Stars|AGDR3CBX2GWY3JKGD...|             true|\n",
      "+----------+------------+-----------+------+--------------------+-------------+--------------------+--------------------+-----------------+\n",
      "only showing top 20 rows\n",
      "\n"
     ]
    }
   ],
   "source": [
    "# Show the sampled DataFrame\n",
    "sampled_df.show()"
   ]
  },
  {
   "cell_type": "code",
   "execution_count": 6,
   "id": "295143ec-e131-49a1-80e7-628d91fda3c8",
   "metadata": {},
   "outputs": [],
   "source": [
    "import pandas as pd"
   ]
  },
  {
   "cell_type": "code",
   "execution_count": 7,
   "id": "28cb10fb-43d8-4ee4-9eee-724331a357f2",
   "metadata": {},
   "outputs": [],
   "source": [
    "# Assuming sampled_df is your PySpark DataFrame\n",
    "pandas_df = sampled_df.toPandas()"
   ]
  },
  {
   "cell_type": "code",
   "execution_count": 8,
   "id": "872ee3d3-d09e-4c27-a01a-d3678dca78c5",
   "metadata": {},
   "outputs": [
    {
     "data": {
      "text/html": [
       "<div>\n",
       "<style scoped>\n",
       "    .dataframe tbody tr th:only-of-type {\n",
       "        vertical-align: middle;\n",
       "    }\n",
       "\n",
       "    .dataframe tbody tr th {\n",
       "        vertical-align: top;\n",
       "    }\n",
       "\n",
       "    .dataframe thead th {\n",
       "        text-align: right;\n",
       "    }\n",
       "</style>\n",
       "<table border=\"1\" class=\"dataframe\">\n",
       "  <thead>\n",
       "    <tr style=\"text-align: right;\">\n",
       "      <th></th>\n",
       "      <th>asin</th>\n",
       "      <th>helpful_vote</th>\n",
       "      <th>parent_asin</th>\n",
       "      <th>rating</th>\n",
       "      <th>text</th>\n",
       "      <th>timestamp</th>\n",
       "      <th>title</th>\n",
       "      <th>user_id</th>\n",
       "      <th>verified_purchase</th>\n",
       "    </tr>\n",
       "  </thead>\n",
       "  <tbody>\n",
       "    <tr>\n",
       "      <th>0</th>\n",
       "      <td>161773375X</td>\n",
       "      <td>3</td>\n",
       "      <td>161773375X</td>\n",
       "      <td>2.0</td>\n",
       "      <td>\"Get to Know Stacy Robinson\" on youtube was a ...</td>\n",
       "      <td>1429812948000</td>\n",
       "      <td>Not as good as the TV show Real Housewives of ...</td>\n",
       "      <td>AFWVN52MRBWOTIK7UGXBWGOY4HBA</td>\n",
       "      <td>False</td>\n",
       "    </tr>\n",
       "    <tr>\n",
       "      <th>1</th>\n",
       "      <td>0385351410</td>\n",
       "      <td>0</td>\n",
       "      <td>0385351410</td>\n",
       "      <td>2.0</td>\n",
       "      <td>It's an age old story of parents divorcing, th...</td>\n",
       "      <td>1424856339000</td>\n",
       "      <td>The story is told by Miles from age 9 to 19</td>\n",
       "      <td>AFWVN52MRBWOTIK7UGXBWGOY4HBA</td>\n",
       "      <td>False</td>\n",
       "    </tr>\n",
       "    <tr>\n",
       "      <th>2</th>\n",
       "      <td>1400323460</td>\n",
       "      <td>0</td>\n",
       "      <td>1400323460</td>\n",
       "      <td>5.0</td>\n",
       "      <td>This was a very comforting read in the trying ...</td>\n",
       "      <td>1404340515000</td>\n",
       "      <td>The title pulled me in</td>\n",
       "      <td>AFWVN52MRBWOTIK7UGXBWGOY4HBA</td>\n",
       "      <td>False</td>\n",
       "    </tr>\n",
       "    <tr>\n",
       "      <th>3</th>\n",
       "      <td>0310324564</td>\n",
       "      <td>1</td>\n",
       "      <td>0310324564</td>\n",
       "      <td>4.0</td>\n",
       "      <td>The author has been published since 1974 (non-...</td>\n",
       "      <td>1351987617000</td>\n",
       "      <td>Silly cover - better novel !</td>\n",
       "      <td>AFWVN52MRBWOTIK7UGXBWGOY4HBA</td>\n",
       "      <td>False</td>\n",
       "    </tr>\n",
       "    <tr>\n",
       "      <th>4</th>\n",
       "      <td>193311035X</td>\n",
       "      <td>11</td>\n",
       "      <td>193311035X</td>\n",
       "      <td>5.0</td>\n",
       "      <td>Erotic page turner that addresses tough person...</td>\n",
       "      <td>1144870881000</td>\n",
       "      <td>Golden Crown Literary Society Award Winner!</td>\n",
       "      <td>AFWVN52MRBWOTIK7UGXBWGOY4HBA</td>\n",
       "      <td>False</td>\n",
       "    </tr>\n",
       "  </tbody>\n",
       "</table>\n",
       "</div>"
      ],
      "text/plain": [
       "         asin  helpful_vote parent_asin  rating  \\\n",
       "0  161773375X             3  161773375X     2.0   \n",
       "1  0385351410             0  0385351410     2.0   \n",
       "2  1400323460             0  1400323460     5.0   \n",
       "3  0310324564             1  0310324564     4.0   \n",
       "4  193311035X            11  193311035X     5.0   \n",
       "\n",
       "                                                text      timestamp  \\\n",
       "0  \"Get to Know Stacy Robinson\" on youtube was a ...  1429812948000   \n",
       "1  It's an age old story of parents divorcing, th...  1424856339000   \n",
       "2  This was a very comforting read in the trying ...  1404340515000   \n",
       "3  The author has been published since 1974 (non-...  1351987617000   \n",
       "4  Erotic page turner that addresses tough person...  1144870881000   \n",
       "\n",
       "                                               title  \\\n",
       "0  Not as good as the TV show Real Housewives of ...   \n",
       "1        The story is told by Miles from age 9 to 19   \n",
       "2                             The title pulled me in   \n",
       "3                       Silly cover - better novel !   \n",
       "4        Golden Crown Literary Society Award Winner!   \n",
       "\n",
       "                        user_id  verified_purchase  \n",
       "0  AFWVN52MRBWOTIK7UGXBWGOY4HBA              False  \n",
       "1  AFWVN52MRBWOTIK7UGXBWGOY4HBA              False  \n",
       "2  AFWVN52MRBWOTIK7UGXBWGOY4HBA              False  \n",
       "3  AFWVN52MRBWOTIK7UGXBWGOY4HBA              False  \n",
       "4  AFWVN52MRBWOTIK7UGXBWGOY4HBA              False  "
      ]
     },
     "execution_count": 8,
     "metadata": {},
     "output_type": "execute_result"
    }
   ],
   "source": [
    "pandas_df.head()"
   ]
  },
  {
   "cell_type": "code",
   "execution_count": 10,
   "id": "7995cc77-19eb-4fe1-87e6-be0984b57f86",
   "metadata": {},
   "outputs": [],
   "source": [
    "csv_file = \"sample_df.csv\"\n",
    "pandas_df.to_csv(csv_file, index=False, sep=';')"
   ]
  }
 ],
 "metadata": {
  "kernelspec": {
   "display_name": "pyspark_env",
   "language": "python",
   "name": "pyspark_env"
  },
  "language_info": {
   "codemirror_mode": {
    "name": "ipython",
    "version": 3
   },
   "file_extension": ".py",
   "mimetype": "text/x-python",
   "name": "python",
   "nbconvert_exporter": "python",
   "pygments_lexer": "ipython3",
   "version": "3.11.8"
  }
 },
 "nbformat": 4,
 "nbformat_minor": 5
}
